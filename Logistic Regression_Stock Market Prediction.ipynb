{
 "cells": [
  {
   "cell_type": "code",
   "execution_count": 2,
   "metadata": {},
   "outputs": [],
   "source": [
    "import pandas as pd\n",
    "import numpy as np\n",
    "from sklearn.model_selection import train_test_split"
   ]
  },
  {
   "cell_type": "code",
   "execution_count": 3,
   "metadata": {},
   "outputs": [
    {
     "data": {
      "text/html": [
       "<div>\n",
       "<style scoped>\n",
       "    .dataframe tbody tr th:only-of-type {\n",
       "        vertical-align: middle;\n",
       "    }\n",
       "\n",
       "    .dataframe tbody tr th {\n",
       "        vertical-align: top;\n",
       "    }\n",
       "\n",
       "    .dataframe thead th {\n",
       "        text-align: right;\n",
       "    }\n",
       "</style>\n",
       "<table border=\"1\" class=\"dataframe\">\n",
       "  <thead>\n",
       "    <tr style=\"text-align: right;\">\n",
       "      <th></th>\n",
       "      <th>Open</th>\n",
       "      <th>High</th>\n",
       "      <th>Low</th>\n",
       "      <th>Close</th>\n",
       "      <th>Volume</th>\n",
       "      <th>Dividends</th>\n",
       "      <th>Stock Splits</th>\n",
       "    </tr>\n",
       "    <tr>\n",
       "      <th>Date</th>\n",
       "      <th></th>\n",
       "      <th></th>\n",
       "      <th></th>\n",
       "      <th></th>\n",
       "      <th></th>\n",
       "      <th></th>\n",
       "      <th></th>\n",
       "    </tr>\n",
       "  </thead>\n",
       "  <tbody>\n",
       "    <tr>\n",
       "      <th>1950-01-03</th>\n",
       "      <td>16.66</td>\n",
       "      <td>16.66</td>\n",
       "      <td>16.66</td>\n",
       "      <td>16.66</td>\n",
       "      <td>1260000</td>\n",
       "      <td>0</td>\n",
       "      <td>0</td>\n",
       "    </tr>\n",
       "    <tr>\n",
       "      <th>1950-01-04</th>\n",
       "      <td>16.85</td>\n",
       "      <td>16.85</td>\n",
       "      <td>16.85</td>\n",
       "      <td>16.85</td>\n",
       "      <td>1890000</td>\n",
       "      <td>0</td>\n",
       "      <td>0</td>\n",
       "    </tr>\n",
       "    <tr>\n",
       "      <th>1950-01-05</th>\n",
       "      <td>16.93</td>\n",
       "      <td>16.93</td>\n",
       "      <td>16.93</td>\n",
       "      <td>16.93</td>\n",
       "      <td>2550000</td>\n",
       "      <td>0</td>\n",
       "      <td>0</td>\n",
       "    </tr>\n",
       "    <tr>\n",
       "      <th>1950-01-06</th>\n",
       "      <td>16.98</td>\n",
       "      <td>16.98</td>\n",
       "      <td>16.98</td>\n",
       "      <td>16.98</td>\n",
       "      <td>2010000</td>\n",
       "      <td>0</td>\n",
       "      <td>0</td>\n",
       "    </tr>\n",
       "    <tr>\n",
       "      <th>1950-01-09</th>\n",
       "      <td>17.08</td>\n",
       "      <td>17.08</td>\n",
       "      <td>17.08</td>\n",
       "      <td>17.08</td>\n",
       "      <td>2520000</td>\n",
       "      <td>0</td>\n",
       "      <td>0</td>\n",
       "    </tr>\n",
       "  </tbody>\n",
       "</table>\n",
       "</div>"
      ],
      "text/plain": [
       "             Open   High    Low  Close   Volume  Dividends  Stock Splits\n",
       "Date                                                                    \n",
       "1950-01-03  16.66  16.66  16.66  16.66  1260000          0             0\n",
       "1950-01-04  16.85  16.85  16.85  16.85  1890000          0             0\n",
       "1950-01-05  16.93  16.93  16.93  16.93  2550000          0             0\n",
       "1950-01-06  16.98  16.98  16.98  16.98  2010000          0             0\n",
       "1950-01-09  17.08  17.08  17.08  17.08  2520000          0             0"
      ]
     },
     "execution_count": 3,
     "metadata": {},
     "output_type": "execute_result"
    }
   ],
   "source": [
    "sp500 = pd.read_csv(\"sp500.csv\", index_col=0)\n",
    "sp500.index = pd.to_datetime(sp500.index, format=\"%Y-%m-%d\")\n",
    "sp500.head(5)"
   ]
  },
  {
   "cell_type": "code",
   "execution_count": 4,
   "metadata": {},
   "outputs": [
    {
     "data": {
      "text/plain": [
       "<Axes: xlabel='Date'>"
      ]
     },
     "execution_count": 4,
     "metadata": {},
     "output_type": "execute_result"
    },
    {
     "data": {
      "image/png": "[encoded data removed]",
      "text/plain": [
       "<Figure size 640x480 with 1 Axes>"
      ]
     },
     "metadata": {},
     "output_type": "display_data"
    }
   ],
   "source": [
    "sp500.plot.line(y=\"Close\", use_index=True)"
   ]
  },
  {
   "cell_type": "code",
   "execution_count": 5,
   "metadata": {},
   "outputs": [
    {
     "data": {
      "text/html": [
       "<div>\n",
       "<style scoped>\n",
       "    .dataframe tbody tr th:only-of-type {\n",
       "        vertical-align: middle;\n",
       "    }\n",
       "\n",
       "    .dataframe tbody tr th {\n",
       "        vertical-align: top;\n",
       "    }\n",
       "\n",
       "    .dataframe thead th {\n",
       "        text-align: right;\n",
       "    }\n",
       "</style>\n",
       "<table border=\"1\" class=\"dataframe\">\n",
       "  <thead>\n",
       "    <tr style=\"text-align: right;\">\n",
       "      <th></th>\n",
       "      <th>Open</th>\n",
       "      <th>High</th>\n",
       "      <th>Low</th>\n",
       "      <th>Close</th>\n",
       "      <th>Volume</th>\n",
       "    </tr>\n",
       "    <tr>\n",
       "      <th>Date</th>\n",
       "      <th></th>\n",
       "      <th></th>\n",
       "      <th></th>\n",
       "      <th></th>\n",
       "      <th></th>\n",
       "    </tr>\n",
       "  </thead>\n",
       "  <tbody>\n",
       "    <tr>\n",
       "      <th>1950-01-03</th>\n",
       "      <td>16.66</td>\n",
       "      <td>16.66</td>\n",
       "      <td>16.66</td>\n",
       "      <td>16.66</td>\n",
       "      <td>1260000</td>\n",
       "    </tr>\n",
       "    <tr>\n",
       "      <th>1950-01-04</th>\n",
       "      <td>16.85</td>\n",
       "      <td>16.85</td>\n",
       "      <td>16.85</td>\n",
       "      <td>16.85</td>\n",
       "      <td>1890000</td>\n",
       "    </tr>\n",
       "    <tr>\n",
       "      <th>1950-01-05</th>\n",
       "      <td>16.93</td>\n",
       "      <td>16.93</td>\n",
       "      <td>16.93</td>\n",
       "      <td>16.93</td>\n",
       "      <td>2550000</td>\n",
       "    </tr>\n",
       "    <tr>\n",
       "      <th>1950-01-06</th>\n",
       "      <td>16.98</td>\n",
       "      <td>16.98</td>\n",
       "      <td>16.98</td>\n",
       "      <td>16.98</td>\n",
       "      <td>2010000</td>\n",
       "    </tr>\n",
       "    <tr>\n",
       "      <th>1950-01-09</th>\n",
       "      <td>17.08</td>\n",
       "      <td>17.08</td>\n",
       "      <td>17.08</td>\n",
       "      <td>17.08</td>\n",
       "      <td>2520000</td>\n",
       "    </tr>\n",
       "  </tbody>\n",
       "</table>\n",
       "</div>"
      ],
      "text/plain": [
       "             Open   High    Low  Close   Volume\n",
       "Date                                           \n",
       "1950-01-03  16.66  16.66  16.66  16.66  1260000\n",
       "1950-01-04  16.85  16.85  16.85  16.85  1890000\n",
       "1950-01-05  16.93  16.93  16.93  16.93  2550000\n",
       "1950-01-06  16.98  16.98  16.98  16.98  2010000\n",
       "1950-01-09  17.08  17.08  17.08  17.08  2520000"
      ]
     },
     "execution_count": 5,
     "metadata": {},
     "output_type": "execute_result"
    }
   ],
   "source": [
    "sp500.drop([\"Dividends\", \"Stock Splits\"], axis=1, inplace=True)\n",
    "sp500.head(5)"
   ]
  },
  {
   "cell_type": "code",
   "execution_count": 6,
   "metadata": {},
   "outputs": [
    {
     "data": {
      "text/html": [
       "<div>\n",
       "<style scoped>\n",
       "    .dataframe tbody tr th:only-of-type {\n",
       "        vertical-align: middle;\n",
       "    }\n",
       "\n",
       "    .dataframe tbody tr th {\n",
       "        vertical-align: top;\n",
       "    }\n",
       "\n",
       "    .dataframe thead th {\n",
       "        text-align: right;\n",
       "    }\n",
       "</style>\n",
       "<table border=\"1\" class=\"dataframe\">\n",
       "  <thead>\n",
       "    <tr style=\"text-align: right;\">\n",
       "      <th></th>\n",
       "      <th>Open</th>\n",
       "      <th>High</th>\n",
       "      <th>Low</th>\n",
       "      <th>Close</th>\n",
       "      <th>Volume</th>\n",
       "      <th>Target</th>\n",
       "    </tr>\n",
       "    <tr>\n",
       "      <th>Date</th>\n",
       "      <th></th>\n",
       "      <th></th>\n",
       "      <th></th>\n",
       "      <th></th>\n",
       "      <th></th>\n",
       "      <th></th>\n",
       "    </tr>\n",
       "  </thead>\n",
       "  <tbody>\n",
       "    <tr>\n",
       "      <th>2015-12-03</th>\n",
       "      <td>2080.709961</td>\n",
       "      <td>2085.000000</td>\n",
       "      <td>2042.349976</td>\n",
       "      <td>2049.620117</td>\n",
       "      <td>4306490000</td>\n",
       "      <td>1</td>\n",
       "    </tr>\n",
       "    <tr>\n",
       "      <th>1962-05-07</th>\n",
       "      <td>0.000000</td>\n",
       "      <td>66.559998</td>\n",
       "      <td>65.660004</td>\n",
       "      <td>66.019997</td>\n",
       "      <td>2530000</td>\n",
       "      <td>0</td>\n",
       "    </tr>\n",
       "    <tr>\n",
       "      <th>2008-05-15</th>\n",
       "      <td>1408.359985</td>\n",
       "      <td>1424.400024</td>\n",
       "      <td>1406.869995</td>\n",
       "      <td>1423.569946</td>\n",
       "      <td>3836480000</td>\n",
       "      <td>1</td>\n",
       "    </tr>\n",
       "    <tr>\n",
       "      <th>2014-11-25</th>\n",
       "      <td>2070.149902</td>\n",
       "      <td>2074.209961</td>\n",
       "      <td>2064.750000</td>\n",
       "      <td>2067.030029</td>\n",
       "      <td>3392940000</td>\n",
       "      <td>1</td>\n",
       "    </tr>\n",
       "    <tr>\n",
       "      <th>2004-04-19</th>\n",
       "      <td>1134.560059</td>\n",
       "      <td>1136.180054</td>\n",
       "      <td>1129.839966</td>\n",
       "      <td>1135.819946</td>\n",
       "      <td>1194900000</td>\n",
       "      <td>0</td>\n",
       "    </tr>\n",
       "  </tbody>\n",
       "</table>\n",
       "</div>"
      ],
      "text/plain": [
       "                   Open         High          Low        Close      Volume  \\\n",
       "Date                                                                         \n",
       "2015-12-03  2080.709961  2085.000000  2042.349976  2049.620117  4306490000   \n",
       "1962-05-07     0.000000    66.559998    65.660004    66.019997     2530000   \n",
       "2008-05-15  1408.359985  1424.400024  1406.869995  1423.569946  3836480000   \n",
       "2014-11-25  2070.149902  2074.209961  2064.750000  2067.030029  3392940000   \n",
       "2004-04-19  1134.560059  1136.180054  1129.839966  1135.819946  1194900000   \n",
       "\n",
       "            Target  \n",
       "Date                \n",
       "2015-12-03       1  \n",
       "1962-05-07       0  \n",
       "2008-05-15       1  \n",
       "2014-11-25       1  \n",
       "2004-04-19       0  "
      ]
     },
     "execution_count": 6,
     "metadata": {},
     "output_type": "execute_result"
    }
   ],
   "source": [
    "sp500['Target'] = (sp500[\"Close\"].shift(-1) > sp500[\"Close\"]).astype(int)\n",
    "sp500.sample(5)"
   ]
  },
  {
   "cell_type": "code",
   "execution_count": 7,
   "metadata": {},
   "outputs": [
    {
     "data": {
      "text/html": [
       "<div>\n",
       "<style scoped>\n",
       "    .dataframe tbody tr th:only-of-type {\n",
       "        vertical-align: middle;\n",
       "    }\n",
       "\n",
       "    .dataframe tbody tr th {\n",
       "        vertical-align: top;\n",
       "    }\n",
       "\n",
       "    .dataframe thead th {\n",
       "        text-align: right;\n",
       "    }\n",
       "</style>\n",
       "<table border=\"1\" class=\"dataframe\">\n",
       "  <thead>\n",
       "    <tr style=\"text-align: right;\">\n",
       "      <th></th>\n",
       "      <th>Open</th>\n",
       "      <th>High</th>\n",
       "      <th>Low</th>\n",
       "      <th>Close</th>\n",
       "      <th>Volume</th>\n",
       "      <th>Target</th>\n",
       "      <th>Open Close Ratio</th>\n",
       "      <th>Close Open Ratio</th>\n",
       "      <th>Price Range</th>\n",
       "      <th>Price Change</th>\n",
       "      <th>Daily Returns</th>\n",
       "      <th>Volume Change</th>\n",
       "      <th>Volume Weighted Average Price</th>\n",
       "    </tr>\n",
       "    <tr>\n",
       "      <th>Date</th>\n",
       "      <th></th>\n",
       "      <th></th>\n",
       "      <th></th>\n",
       "      <th></th>\n",
       "      <th></th>\n",
       "      <th></th>\n",
       "      <th></th>\n",
       "      <th></th>\n",
       "      <th></th>\n",
       "      <th></th>\n",
       "      <th></th>\n",
       "      <th></th>\n",
       "      <th></th>\n",
       "    </tr>\n",
       "  </thead>\n",
       "  <tbody>\n",
       "    <tr>\n",
       "      <th>1950-01-03</th>\n",
       "      <td>16.66</td>\n",
       "      <td>16.66</td>\n",
       "      <td>16.66</td>\n",
       "      <td>16.66</td>\n",
       "      <td>1260000</td>\n",
       "      <td>1</td>\n",
       "      <td>1.0</td>\n",
       "      <td>NaN</td>\n",
       "      <td>0.0</td>\n",
       "      <td>0.0</td>\n",
       "      <td>NaN</td>\n",
       "      <td>NaN</td>\n",
       "      <td>16.660000</td>\n",
       "    </tr>\n",
       "    <tr>\n",
       "      <th>1950-01-04</th>\n",
       "      <td>16.85</td>\n",
       "      <td>16.85</td>\n",
       "      <td>16.85</td>\n",
       "      <td>16.85</td>\n",
       "      <td>1890000</td>\n",
       "      <td>1</td>\n",
       "      <td>1.0</td>\n",
       "      <td>0.988724</td>\n",
       "      <td>0.0</td>\n",
       "      <td>0.0</td>\n",
       "      <td>0.011405</td>\n",
       "      <td>0.500000</td>\n",
       "      <td>16.774000</td>\n",
       "    </tr>\n",
       "    <tr>\n",
       "      <th>1950-01-05</th>\n",
       "      <td>16.93</td>\n",
       "      <td>16.93</td>\n",
       "      <td>16.93</td>\n",
       "      <td>16.93</td>\n",
       "      <td>2550000</td>\n",
       "      <td>1</td>\n",
       "      <td>1.0</td>\n",
       "      <td>0.995275</td>\n",
       "      <td>0.0</td>\n",
       "      <td>0.0</td>\n",
       "      <td>0.004748</td>\n",
       "      <td>0.349206</td>\n",
       "      <td>16.843790</td>\n",
       "    </tr>\n",
       "    <tr>\n",
       "      <th>1950-01-06</th>\n",
       "      <td>16.98</td>\n",
       "      <td>16.98</td>\n",
       "      <td>16.98</td>\n",
       "      <td>16.98</td>\n",
       "      <td>2010000</td>\n",
       "      <td>1</td>\n",
       "      <td>1.0</td>\n",
       "      <td>0.997055</td>\n",
       "      <td>0.0</td>\n",
       "      <td>0.0</td>\n",
       "      <td>0.002953</td>\n",
       "      <td>-0.211765</td>\n",
       "      <td>16.879300</td>\n",
       "    </tr>\n",
       "    <tr>\n",
       "      <th>1950-01-09</th>\n",
       "      <td>17.08</td>\n",
       "      <td>17.08</td>\n",
       "      <td>17.08</td>\n",
       "      <td>17.08</td>\n",
       "      <td>2520000</td>\n",
       "      <td>0</td>\n",
       "      <td>1.0</td>\n",
       "      <td>0.994145</td>\n",
       "      <td>0.0</td>\n",
       "      <td>0.0</td>\n",
       "      <td>0.005889</td>\n",
       "      <td>0.253731</td>\n",
       "      <td>16.928739</td>\n",
       "    </tr>\n",
       "  </tbody>\n",
       "</table>\n",
       "</div>"
      ],
      "text/plain": [
       "             Open   High    Low  Close   Volume  Target  Open Close Ratio  \\\n",
       "Date                                                                        \n",
       "1950-01-03  16.66  16.66  16.66  16.66  1260000       1               1.0   \n",
       "1950-01-04  16.85  16.85  16.85  16.85  1890000       1               1.0   \n",
       "1950-01-05  16.93  16.93  16.93  16.93  2550000       1               1.0   \n",
       "1950-01-06  16.98  16.98  16.98  16.98  2010000       1               1.0   \n",
       "1950-01-09  17.08  17.08  17.08  17.08  2520000       0               1.0   \n",
       "\n",
       "            Close Open Ratio  Price Range  Price Change  Daily Returns  \\\n",
       "Date                                                                     \n",
       "1950-01-03               NaN          0.0           0.0            NaN   \n",
       "1950-01-04          0.988724          0.0           0.0       0.011405   \n",
       "1950-01-05          0.995275          0.0           0.0       0.004748   \n",
       "1950-01-06          0.997055          0.0           0.0       0.002953   \n",
       "1950-01-09          0.994145          0.0           0.0       0.005889   \n",
       "\n",
       "            Volume Change  Volume Weighted Average Price  \n",
       "Date                                                      \n",
       "1950-01-03            NaN                      16.660000  \n",
       "1950-01-04       0.500000                      16.774000  \n",
       "1950-01-05       0.349206                      16.843790  \n",
       "1950-01-06      -0.211765                      16.879300  \n",
       "1950-01-09       0.253731                      16.928739  "
      ]
     },
     "execution_count": 7,
     "metadata": {},
     "output_type": "execute_result"
    }
   ],
   "source": [
    "sp500['Open'].replace(0, pd.NaT, inplace=True)\n",
    "sp500['Open'].fillna(sp500['Close'].shift(), inplace=True)\n",
    "\n",
    "sp500[\"Open Close Ratio\"] = sp500[\"Close\"]/sp500[\"Open\"]\n",
    "sp500[\"Close Open Ratio\"] = sp500[\"Close\"].shift(1)/sp500[\"Open\"]\n",
    "sp500[\"Price Range\"] = sp500[\"High\"] - sp500[\"Low\"]\n",
    "sp500[\"Price Change\"] = sp500[\"Close\"] - sp500[\"Open\"] \n",
    "sp500[\"Daily Returns\"] = sp500[\"Close\"].pct_change()\n",
    "sp500[\"Volume Change\"] = sp500[\"Volume\"].pct_change()\n",
    "sp500[\"Volume Weighted Average Price\"] = (sp500['Close'] * sp500['Volume']).cumsum() / sp500['Volume'].cumsum()\n",
    "\n",
    "\n",
    "sp500.head(5)"
   ]
  },
  {
   "cell_type": "code",
   "execution_count": 8,
   "metadata": {},
   "outputs": [
    {
     "data": {
      "text/html": [
       "<div>\n",
       "<style scoped>\n",
       "    .dataframe tbody tr th:only-of-type {\n",
       "        vertical-align: middle;\n",
       "    }\n",
       "\n",
       "    .dataframe tbody tr th {\n",
       "        vertical-align: top;\n",
       "    }\n",
       "\n",
       "    .dataframe thead th {\n",
       "        text-align: right;\n",
       "    }\n",
       "</style>\n",
       "<table border=\"1\" class=\"dataframe\">\n",
       "  <thead>\n",
       "    <tr style=\"text-align: right;\">\n",
       "      <th></th>\n",
       "      <th>Open</th>\n",
       "      <th>High</th>\n",
       "      <th>Low</th>\n",
       "      <th>Close</th>\n",
       "      <th>Volume</th>\n",
       "      <th>Target</th>\n",
       "      <th>Open Close Ratio</th>\n",
       "      <th>Close Open Ratio</th>\n",
       "      <th>Price Range</th>\n",
       "      <th>Price Change</th>\n",
       "      <th>...</th>\n",
       "      <th>Trend_5</th>\n",
       "      <th>Close_Ratio_60</th>\n",
       "      <th>Volume_Ratio_60</th>\n",
       "      <th>Trend_60</th>\n",
       "      <th>Close_Ratio_250</th>\n",
       "      <th>Volume_Ratio_250</th>\n",
       "      <th>Trend_250</th>\n",
       "      <th>Close_Ratio_1000</th>\n",
       "      <th>Volume_Ratio_1000</th>\n",
       "      <th>Trend_1000</th>\n",
       "    </tr>\n",
       "    <tr>\n",
       "      <th>Date</th>\n",
       "      <th></th>\n",
       "      <th></th>\n",
       "      <th></th>\n",
       "      <th></th>\n",
       "      <th></th>\n",
       "      <th></th>\n",
       "      <th></th>\n",
       "      <th></th>\n",
       "      <th></th>\n",
       "      <th></th>\n",
       "      <th></th>\n",
       "      <th></th>\n",
       "      <th></th>\n",
       "      <th></th>\n",
       "      <th></th>\n",
       "      <th></th>\n",
       "      <th></th>\n",
       "      <th></th>\n",
       "      <th></th>\n",
       "      <th></th>\n",
       "      <th></th>\n",
       "    </tr>\n",
       "  </thead>\n",
       "  <tbody>\n",
       "    <tr>\n",
       "      <th>1950-01-03</th>\n",
       "      <td>16.66</td>\n",
       "      <td>16.66</td>\n",
       "      <td>16.66</td>\n",
       "      <td>16.66</td>\n",
       "      <td>1260000</td>\n",
       "      <td>1</td>\n",
       "      <td>1.0</td>\n",
       "      <td>NaN</td>\n",
       "      <td>0.0</td>\n",
       "      <td>0.0</td>\n",
       "      <td>...</td>\n",
       "      <td>NaN</td>\n",
       "      <td>NaN</td>\n",
       "      <td>NaN</td>\n",
       "      <td>NaN</td>\n",
       "      <td>NaN</td>\n",
       "      <td>NaN</td>\n",
       "      <td>NaN</td>\n",
       "      <td>NaN</td>\n",
       "      <td>NaN</td>\n",
       "      <td>NaN</td>\n",
       "    </tr>\n",
       "    <tr>\n",
       "      <th>1950-01-04</th>\n",
       "      <td>16.85</td>\n",
       "      <td>16.85</td>\n",
       "      <td>16.85</td>\n",
       "      <td>16.85</td>\n",
       "      <td>1890000</td>\n",
       "      <td>1</td>\n",
       "      <td>1.0</td>\n",
       "      <td>0.988724</td>\n",
       "      <td>0.0</td>\n",
       "      <td>0.0</td>\n",
       "      <td>...</td>\n",
       "      <td>NaN</td>\n",
       "      <td>NaN</td>\n",
       "      <td>NaN</td>\n",
       "      <td>NaN</td>\n",
       "      <td>NaN</td>\n",
       "      <td>NaN</td>\n",
       "      <td>NaN</td>\n",
       "      <td>NaN</td>\n",
       "      <td>NaN</td>\n",
       "      <td>NaN</td>\n",
       "    </tr>\n",
       "    <tr>\n",
       "      <th>1950-01-05</th>\n",
       "      <td>16.93</td>\n",
       "      <td>16.93</td>\n",
       "      <td>16.93</td>\n",
       "      <td>16.93</td>\n",
       "      <td>2550000</td>\n",
       "      <td>1</td>\n",
       "      <td>1.0</td>\n",
       "      <td>0.995275</td>\n",
       "      <td>0.0</td>\n",
       "      <td>0.0</td>\n",
       "      <td>...</td>\n",
       "      <td>NaN</td>\n",
       "      <td>NaN</td>\n",
       "      <td>NaN</td>\n",
       "      <td>NaN</td>\n",
       "      <td>NaN</td>\n",
       "      <td>NaN</td>\n",
       "      <td>NaN</td>\n",
       "      <td>NaN</td>\n",
       "      <td>NaN</td>\n",
       "      <td>NaN</td>\n",
       "    </tr>\n",
       "    <tr>\n",
       "      <th>1950-01-06</th>\n",
       "      <td>16.98</td>\n",
       "      <td>16.98</td>\n",
       "      <td>16.98</td>\n",
       "      <td>16.98</td>\n",
       "      <td>2010000</td>\n",
       "      <td>1</td>\n",
       "      <td>1.0</td>\n",
       "      <td>0.997055</td>\n",
       "      <td>0.0</td>\n",
       "      <td>0.0</td>\n",
       "      <td>...</td>\n",
       "      <td>NaN</td>\n",
       "      <td>NaN</td>\n",
       "      <td>NaN</td>\n",
       "      <td>NaN</td>\n",
       "      <td>NaN</td>\n",
       "      <td>NaN</td>\n",
       "      <td>NaN</td>\n",
       "      <td>NaN</td>\n",
       "      <td>NaN</td>\n",
       "      <td>NaN</td>\n",
       "    </tr>\n",
       "    <tr>\n",
       "      <th>1950-01-09</th>\n",
       "      <td>17.08</td>\n",
       "      <td>17.08</td>\n",
       "      <td>17.08</td>\n",
       "      <td>17.08</td>\n",
       "      <td>2520000</td>\n",
       "      <td>0</td>\n",
       "      <td>1.0</td>\n",
       "      <td>0.994145</td>\n",
       "      <td>0.0</td>\n",
       "      <td>0.0</td>\n",
       "      <td>...</td>\n",
       "      <td>NaN</td>\n",
       "      <td>NaN</td>\n",
       "      <td>NaN</td>\n",
       "      <td>NaN</td>\n",
       "      <td>NaN</td>\n",
       "      <td>NaN</td>\n",
       "      <td>NaN</td>\n",
       "      <td>NaN</td>\n",
       "      <td>NaN</td>\n",
       "      <td>NaN</td>\n",
       "    </tr>\n",
       "  </tbody>\n",
       "</table>\n",
       "<p>5 rows × 28 columns</p>\n",
       "</div>"
      ],
      "text/plain": [
       "             Open   High    Low  Close   Volume  Target  Open Close Ratio  \\\n",
       "Date                                                                        \n",
       "1950-01-03  16.66  16.66  16.66  16.66  1260000       1               1.0   \n",
       "1950-01-04  16.85  16.85  16.85  16.85  1890000       1               1.0   \n",
       "1950-01-05  16.93  16.93  16.93  16.93  2550000       1               1.0   \n",
       "1950-01-06  16.98  16.98  16.98  16.98  2010000       1               1.0   \n",
       "1950-01-09  17.08  17.08  17.08  17.08  2520000       0               1.0   \n",
       "\n",
       "            Close Open Ratio  Price Range  Price Change  ...  Trend_5  \\\n",
       "Date                                                     ...            \n",
       "1950-01-03               NaN          0.0           0.0  ...      NaN   \n",
       "1950-01-04          0.988724          0.0           0.0  ...      NaN   \n",
       "1950-01-05          0.995275          0.0           0.0  ...      NaN   \n",
       "1950-01-06          0.997055          0.0           0.0  ...      NaN   \n",
       "1950-01-09          0.994145          0.0           0.0  ...      NaN   \n",
       "\n",
       "            Close_Ratio_60  Volume_Ratio_60  Trend_60  Close_Ratio_250  \\\n",
       "Date                                                                     \n",
       "1950-01-03             NaN              NaN       NaN              NaN   \n",
       "1950-01-04             NaN              NaN       NaN              NaN   \n",
       "1950-01-05             NaN              NaN       NaN              NaN   \n",
       "1950-01-06             NaN              NaN       NaN              NaN   \n",
       "1950-01-09             NaN              NaN       NaN              NaN   \n",
       "\n",
       "            Volume_Ratio_250  Trend_250  Close_Ratio_1000  Volume_Ratio_1000  \\\n",
       "Date                                                                           \n",
       "1950-01-03               NaN        NaN               NaN                NaN   \n",
       "1950-01-04               NaN        NaN               NaN                NaN   \n",
       "1950-01-05               NaN        NaN               NaN                NaN   \n",
       "1950-01-06               NaN        NaN               NaN                NaN   \n",
       "1950-01-09               NaN        NaN               NaN                NaN   \n",
       "\n",
       "            Trend_1000  \n",
       "Date                    \n",
       "1950-01-03         NaN  \n",
       "1950-01-04         NaN  \n",
       "1950-01-05         NaN  \n",
       "1950-01-06         NaN  \n",
       "1950-01-09         NaN  \n",
       "\n",
       "[5 rows x 28 columns]"
      ]
     },
     "execution_count": 8,
     "metadata": {},
     "output_type": "execute_result"
    }
   ],
   "source": [
    "horizons = [2,5,60,250,1000]\n",
    "\n",
    "for horizon in horizons:\n",
    "    rolling_averages = sp500.rolling(horizon).mean()\n",
    "    \n",
    "    ratio_column = f\"Close_Ratio_{horizon}\"\n",
    "    sp500[ratio_column] = sp500[\"Close\"] / rolling_averages[\"Close\"]\n",
    "\n",
    "    volume_column = f\"Volume_Ratio_{horizon}\"\n",
    "    sp500[volume_column] = sp500[\"Volume\"] / rolling_averages[\"Volume\"]\n",
    "    \n",
    "    trend_column = f\"Trend_{horizon}\"\n",
    "    sp500[trend_column] = sp500.shift(1).rolling(horizon).sum()[\"Target\"]\n",
    "\n",
    "sp500.head(5)"
   ]
  },
  {
   "cell_type": "code",
   "execution_count": 9,
   "metadata": {},
   "outputs": [
    {
     "data": {
      "text/html": [
       "<div>\n",
       "<style scoped>\n",
       "    .dataframe tbody tr th:only-of-type {\n",
       "        vertical-align: middle;\n",
       "    }\n",
       "\n",
       "    .dataframe tbody tr th {\n",
       "        vertical-align: top;\n",
       "    }\n",
       "\n",
       "    .dataframe thead th {\n",
       "        text-align: right;\n",
       "    }\n",
       "</style>\n",
       "<table border=\"1\" class=\"dataframe\">\n",
       "  <thead>\n",
       "    <tr style=\"text-align: right;\">\n",
       "      <th></th>\n",
       "      <th>Open</th>\n",
       "      <th>High</th>\n",
       "      <th>Low</th>\n",
       "      <th>Close</th>\n",
       "      <th>Volume</th>\n",
       "      <th>Target</th>\n",
       "      <th>Open Close Ratio</th>\n",
       "      <th>Close Open Ratio</th>\n",
       "      <th>Price Range</th>\n",
       "      <th>Price Change</th>\n",
       "      <th>...</th>\n",
       "      <th>Trend_5</th>\n",
       "      <th>Close_Ratio_60</th>\n",
       "      <th>Volume_Ratio_60</th>\n",
       "      <th>Trend_60</th>\n",
       "      <th>Close_Ratio_250</th>\n",
       "      <th>Volume_Ratio_250</th>\n",
       "      <th>Trend_250</th>\n",
       "      <th>Close_Ratio_1000</th>\n",
       "      <th>Volume_Ratio_1000</th>\n",
       "      <th>Trend_1000</th>\n",
       "    </tr>\n",
       "    <tr>\n",
       "      <th>Date</th>\n",
       "      <th></th>\n",
       "      <th></th>\n",
       "      <th></th>\n",
       "      <th></th>\n",
       "      <th></th>\n",
       "      <th></th>\n",
       "      <th></th>\n",
       "      <th></th>\n",
       "      <th></th>\n",
       "      <th></th>\n",
       "      <th></th>\n",
       "      <th></th>\n",
       "      <th></th>\n",
       "      <th></th>\n",
       "      <th></th>\n",
       "      <th></th>\n",
       "      <th></th>\n",
       "      <th></th>\n",
       "      <th></th>\n",
       "      <th></th>\n",
       "      <th></th>\n",
       "    </tr>\n",
       "  </thead>\n",
       "  <tbody>\n",
       "    <tr>\n",
       "      <th>1990-01-02</th>\n",
       "      <td>353.399994</td>\n",
       "      <td>359.690002</td>\n",
       "      <td>351.980011</td>\n",
       "      <td>359.690002</td>\n",
       "      <td>162070000</td>\n",
       "      <td>0</td>\n",
       "      <td>1.017799</td>\n",
       "      <td>1.0</td>\n",
       "      <td>7.709991</td>\n",
       "      <td>6.290009</td>\n",
       "      <td>...</td>\n",
       "      <td>4.0</td>\n",
       "      <td>1.042631</td>\n",
       "      <td>0.998595</td>\n",
       "      <td>34.0</td>\n",
       "      <td>1.111061</td>\n",
       "      <td>0.978555</td>\n",
       "      <td>149.0</td>\n",
       "      <td>1.289445</td>\n",
       "      <td>0.984391</td>\n",
       "      <td>568.0</td>\n",
       "    </tr>\n",
       "    <tr>\n",
       "      <th>1990-01-03</th>\n",
       "      <td>359.690002</td>\n",
       "      <td>360.589996</td>\n",
       "      <td>357.890015</td>\n",
       "      <td>358.760010</td>\n",
       "      <td>192330000</td>\n",
       "      <td>0</td>\n",
       "      <td>0.997414</td>\n",
       "      <td>1.0</td>\n",
       "      <td>2.699982</td>\n",
       "      <td>-0.929993</td>\n",
       "      <td>...</td>\n",
       "      <td>4.0</td>\n",
       "      <td>1.039936</td>\n",
       "      <td>1.182636</td>\n",
       "      <td>33.0</td>\n",
       "      <td>1.107120</td>\n",
       "      <td>1.160392</td>\n",
       "      <td>148.0</td>\n",
       "      <td>1.285414</td>\n",
       "      <td>1.167427</td>\n",
       "      <td>568.0</td>\n",
       "    </tr>\n",
       "    <tr>\n",
       "      <th>1990-01-04</th>\n",
       "      <td>358.760010</td>\n",
       "      <td>358.760010</td>\n",
       "      <td>352.890015</td>\n",
       "      <td>355.670013</td>\n",
       "      <td>177000000</td>\n",
       "      <td>0</td>\n",
       "      <td>0.991387</td>\n",
       "      <td>1.0</td>\n",
       "      <td>5.869995</td>\n",
       "      <td>-3.089996</td>\n",
       "      <td>...</td>\n",
       "      <td>3.0</td>\n",
       "      <td>1.031185</td>\n",
       "      <td>1.078405</td>\n",
       "      <td>32.0</td>\n",
       "      <td>1.096573</td>\n",
       "      <td>1.067545</td>\n",
       "      <td>147.0</td>\n",
       "      <td>1.273659</td>\n",
       "      <td>1.074058</td>\n",
       "      <td>568.0</td>\n",
       "    </tr>\n",
       "    <tr>\n",
       "      <th>1990-01-05</th>\n",
       "      <td>355.670013</td>\n",
       "      <td>355.670013</td>\n",
       "      <td>351.350006</td>\n",
       "      <td>352.200012</td>\n",
       "      <td>158530000</td>\n",
       "      <td>1</td>\n",
       "      <td>0.990244</td>\n",
       "      <td>1.0</td>\n",
       "      <td>4.320007</td>\n",
       "      <td>-3.470001</td>\n",
       "      <td>...</td>\n",
       "      <td>2.0</td>\n",
       "      <td>1.021467</td>\n",
       "      <td>0.964798</td>\n",
       "      <td>32.0</td>\n",
       "      <td>1.084914</td>\n",
       "      <td>0.955729</td>\n",
       "      <td>147.0</td>\n",
       "      <td>1.260562</td>\n",
       "      <td>0.961820</td>\n",
       "      <td>568.0</td>\n",
       "    </tr>\n",
       "    <tr>\n",
       "      <th>1990-01-08</th>\n",
       "      <td>352.200012</td>\n",
       "      <td>354.239990</td>\n",
       "      <td>350.540009</td>\n",
       "      <td>353.790009</td>\n",
       "      <td>140110000</td>\n",
       "      <td>0</td>\n",
       "      <td>1.004514</td>\n",
       "      <td>1.0</td>\n",
       "      <td>3.699982</td>\n",
       "      <td>1.589996</td>\n",
       "      <td>...</td>\n",
       "      <td>2.0</td>\n",
       "      <td>1.026237</td>\n",
       "      <td>0.854773</td>\n",
       "      <td>33.0</td>\n",
       "      <td>1.088849</td>\n",
       "      <td>0.844860</td>\n",
       "      <td>147.0</td>\n",
       "      <td>1.265575</td>\n",
       "      <td>0.850013</td>\n",
       "      <td>568.0</td>\n",
       "    </tr>\n",
       "  </tbody>\n",
       "</table>\n",
       "<p>5 rows × 28 columns</p>\n",
       "</div>"
      ],
      "text/plain": [
       "                  Open        High         Low       Close     Volume  Target  \\\n",
       "Date                                                                            \n",
       "1990-01-02  353.399994  359.690002  351.980011  359.690002  162070000       0   \n",
       "1990-01-03  359.690002  360.589996  357.890015  358.760010  192330000       0   \n",
       "1990-01-04  358.760010  358.760010  352.890015  355.670013  177000000       0   \n",
       "1990-01-05  355.670013  355.670013  351.350006  352.200012  158530000       1   \n",
       "1990-01-08  352.200012  354.239990  350.540009  353.790009  140110000       0   \n",
       "\n",
       "            Open Close Ratio  Close Open Ratio  Price Range  Price Change  \\\n",
       "Date                                                                        \n",
       "1990-01-02          1.017799               1.0     7.709991      6.290009   \n",
       "1990-01-03          0.997414               1.0     2.699982     -0.929993   \n",
       "1990-01-04          0.991387               1.0     5.869995     -3.089996   \n",
       "1990-01-05          0.990244               1.0     4.320007     -3.470001   \n",
       "1990-01-08          1.004514               1.0     3.699982      1.589996   \n",
       "\n",
       "            ...  Trend_5  Close_Ratio_60  Volume_Ratio_60  Trend_60  \\\n",
       "Date        ...                                                       \n",
       "1990-01-02  ...      4.0        1.042631         0.998595      34.0   \n",
       "1990-01-03  ...      4.0        1.039936         1.182636      33.0   \n",
       "1990-01-04  ...      3.0        1.031185         1.078405      32.0   \n",
       "1990-01-05  ...      2.0        1.021467         0.964798      32.0   \n",
       "1990-01-08  ...      2.0        1.026237         0.854773      33.0   \n",
       "\n",
       "            Close_Ratio_250  Volume_Ratio_250  Trend_250  Close_Ratio_1000  \\\n",
       "Date                                                                         \n",
       "1990-01-02         1.111061          0.978555      149.0          1.289445   \n",
       "1990-01-03         1.107120          1.160392      148.0          1.285414   \n",
       "1990-01-04         1.096573          1.067545      147.0          1.273659   \n",
       "1990-01-05         1.084914          0.955729      147.0          1.260562   \n",
       "1990-01-08         1.088849          0.844860      147.0          1.265575   \n",
       "\n",
       "            Volume_Ratio_1000  Trend_1000  \n",
       "Date                                       \n",
       "1990-01-02           0.984391       568.0  \n",
       "1990-01-03           1.167427       568.0  \n",
       "1990-01-04           1.074058       568.0  \n",
       "1990-01-05           0.961820       568.0  \n",
       "1990-01-08           0.850013       568.0  \n",
       "\n",
       "[5 rows x 28 columns]"
      ]
     },
     "execution_count": 9,
     "metadata": {},
     "output_type": "execute_result"
    }
   ],
   "source": [
    "sp500 = sp500.loc[\"1990-01-01\":].copy()\n",
    "sp500.dropna\n",
    "\n",
    "sp500 = sp500.replace([np.inf, -np.inf], np.nan).dropna()\n",
    "\n",
    "sp500.head(5)"
   ]
  },
  {
   "cell_type": "code",
   "execution_count": 10,
   "metadata": {},
   "outputs": [
    {
     "name": "stdout",
     "output_type": "stream",
     "text": [
      "(8235, 27)\n",
      "(8235,)\n",
      "['Open', 'High', 'Low', 'Close', 'Volume', 'Open Close Ratio', 'Close Open Ratio', 'Price Range', 'Price Change', 'Daily Returns', 'Volume Change', 'Volume Weighted Average Price', 'Close_Ratio_2', 'Volume_Ratio_2', 'Trend_2', 'Close_Ratio_5', 'Volume_Ratio_5', 'Trend_5', 'Close_Ratio_60', 'Volume_Ratio_60', 'Trend_60', 'Close_Ratio_250', 'Volume_Ratio_250', 'Trend_250', 'Close_Ratio_1000', 'Volume_Ratio_1000', 'Trend_1000']\n"
     ]
    }
   ],
   "source": [
    "X = sp500.drop(\"Target\", axis=1)\n",
    "y = sp500.Target\n",
    "\n",
    "all_feature_cols = X.columns.tolist()\n",
    "\n",
    "print(X.shape)\n",
    "print(y.shape)\n",
    "print(all_feature_cols)"
   ]
  },
  {
   "cell_type": "code",
   "execution_count": 16,
   "metadata": {},
   "outputs": [],
   "source": [
    "def predict(X_train, X_test, y_train, y_test, model):\n",
    "    model.fit(X_train, y_train)\n",
    "    preds = model.predict_proba(X_test)[:,1]\n",
    "    preds[preds >=.6] = 1\n",
    "    preds[preds <= .4] = 0\n",
    "    preds = pd.Series(preds, index=X_test.index, name=\"Predictions\")\n",
    "    combined = pd.concat([y_test.reset_index(drop=True), preds.reset_index(drop=True)], axis=1)\n",
    "    combined = combined.loc[(combined[\"Predictions\"] == 0.0) | (combined[\"Predictions\"] == 1.0), :]\n",
    "    return combined\n",
    "\n",
    "def backtest(X, y, cols, model, start=750, step=250):\n",
    "    all_predictions = []\n",
    "\n",
    "    for i in range(start, X.shape[0], step):\n",
    "        X_train = X[cols].iloc[0:i].copy()\n",
    "        X_test = X[cols].iloc[i:(i+step)].copy()\n",
    "        y_train = y.iloc[0:i].copy()\n",
    "        y_test = y.iloc[i:(i+step)].copy()\n",
    "        predictions = predict(X_train, X_test, y_train, y_test, model)\n",
    "        all_predictions.append(predictions)\n",
    "    \n",
    "    return pd.concat(all_predictions)"
   ]
  },
  {
   "cell_type": "code",
   "execution_count": 17,
   "metadata": {},
   "outputs": [
    {
     "name": "stderr",
     "output_type": "stream",
     "text": [
      "c:\\Users\\jonas\\anaconda3\\lib\\site-packages\\sklearn\\linear_model\\_sag.py:350: ConvergenceWarning: The max_iter was reached which means the coef_ did not converge\n",
      "  warnings.warn(\n",
      "c:\\Users\\jonas\\anaconda3\\lib\\site-packages\\sklearn\\linear_model\\_sag.py:350: ConvergenceWarning: The max_iter was reached which means the coef_ did not converge\n",
      "  warnings.warn(\n",
      "c:\\Users\\jonas\\anaconda3\\lib\\site-packages\\sklearn\\linear_model\\_sag.py:350: ConvergenceWarning: The max_iter was reached which means the coef_ did not converge\n",
      "  warnings.warn(\n",
      "c:\\Users\\jonas\\anaconda3\\lib\\site-packages\\sklearn\\linear_model\\_sag.py:350: ConvergenceWarning: The max_iter was reached which means the coef_ did not converge\n",
      "  warnings.warn(\n",
      "c:\\Users\\jonas\\anaconda3\\lib\\site-packages\\sklearn\\linear_model\\_sag.py:350: ConvergenceWarning: The max_iter was reached which means the coef_ did not converge\n",
      "  warnings.warn(\n",
      "c:\\Users\\jonas\\anaconda3\\lib\\site-packages\\sklearn\\linear_model\\_sag.py:350: ConvergenceWarning: The max_iter was reached which means the coef_ did not converge\n",
      "  warnings.warn(\n"
     ]
    },
    {
     "name": "stdout",
     "output_type": "stream",
     "text": [
      "              precision    recall  f1-score   support\n",
      "\n",
      "           0       0.00      0.00      0.00        66\n",
      "           1       0.48      1.00      0.65        61\n",
      "\n",
      "    accuracy                           0.48       127\n",
      "   macro avg       0.24      0.50      0.32       127\n",
      "weighted avg       0.23      0.48      0.31       127\n",
      "\n"
     ]
    },
    {
     "name": "stderr",
     "output_type": "stream",
     "text": [
      "c:\\Users\\jonas\\anaconda3\\lib\\site-packages\\sklearn\\metrics\\_classification.py:1344: UndefinedMetricWarning: Precision and F-score are ill-defined and being set to 0.0 in labels with no predicted samples. Use `zero_division` parameter to control this behavior.\n",
      "  _warn_prf(average, modifier, msg_start, len(result))\n",
      "c:\\Users\\jonas\\anaconda3\\lib\\site-packages\\sklearn\\metrics\\_classification.py:1344: UndefinedMetricWarning: Precision and F-score are ill-defined and being set to 0.0 in labels with no predicted samples. Use `zero_division` parameter to control this behavior.\n",
      "  _warn_prf(average, modifier, msg_start, len(result))\n",
      "c:\\Users\\jonas\\anaconda3\\lib\\site-packages\\sklearn\\metrics\\_classification.py:1344: UndefinedMetricWarning: Precision and F-score are ill-defined and being set to 0.0 in labels with no predicted samples. Use `zero_division` parameter to control this behavior.\n",
      "  _warn_prf(average, modifier, msg_start, len(result))\n"
     ]
    }
   ],
   "source": [
    "from sklearn.linear_model import LogisticRegression\n",
    "from sklearn.metrics import classification_report\n",
    "\n",
    "log_saga = LogisticRegression(solver=\"saga\", random_state=1)\n",
    "\n",
    "result_whitebox = backtest(X, y, all_feature_cols, log_saga)\n",
    "\n",
    "print(classification_report(result_whitebox.Target, result_whitebox.Predictions))"
   ]
  },
  {
   "cell_type": "code",
   "execution_count": 18,
   "metadata": {},
   "outputs": [
    {
     "data": {
      "text/plain": [
       "Text(95.72222222222221, 0.5, 'Truth')"
      ]
     },
     "execution_count": 18,
     "metadata": {},
     "output_type": "execute_result"
    },
    {
     "data": {
      "image/png": "[encoded data removed]",
      "text/plain": [
       "<Figure size 1000x700 with 2 Axes>"
      ]
     },
     "metadata": {},
     "output_type": "display_data"
    }
   ],
   "source": [
    "from sklearn.metrics import confusion_matrix\n",
    "cm = confusion_matrix(result_whitebox.Target, result_whitebox.Predictions)\n",
    "\n",
    "from matplotlib import pyplot as plt\n",
    "import seaborn as sn\n",
    "plt.figure(figsize = (10,7))\n",
    "sn.heatmap(cm, annot=True, fmt='d')\n",
    "plt.xlabel('Prediction')\n",
    "plt.ylabel('Truth')"
   ]
  },
  {
   "cell_type": "code",
   "execution_count": 14,
   "metadata": {},
   "outputs": [
    {
     "data": {
      "text/html": [
       "<div>\n",
       "<style scoped>\n",
       "    .dataframe tbody tr th:only-of-type {\n",
       "        vertical-align: middle;\n",
       "    }\n",
       "\n",
       "    .dataframe tbody tr th {\n",
       "        vertical-align: top;\n",
       "    }\n",
       "\n",
       "    .dataframe thead th {\n",
       "        text-align: right;\n",
       "    }\n",
       "</style>\n",
       "<table border=\"1\" class=\"dataframe\">\n",
       "  <thead>\n",
       "    <tr style=\"text-align: right;\">\n",
       "      <th></th>\n",
       "      <th>Open</th>\n",
       "      <th>High</th>\n",
       "      <th>Low</th>\n",
       "      <th>Close</th>\n",
       "      <th>Volume</th>\n",
       "      <th>Open Close Ratio</th>\n",
       "      <th>Close Open Ratio</th>\n",
       "      <th>Price Range</th>\n",
       "      <th>Price Change</th>\n",
       "      <th>Daily Returns</th>\n",
       "      <th>...</th>\n",
       "      <th>Trend_5</th>\n",
       "      <th>Close_Ratio_60</th>\n",
       "      <th>Volume_Ratio_60</th>\n",
       "      <th>Trend_60</th>\n",
       "      <th>Close_Ratio_250</th>\n",
       "      <th>Volume_Ratio_250</th>\n",
       "      <th>Trend_250</th>\n",
       "      <th>Close_Ratio_1000</th>\n",
       "      <th>Volume_Ratio_1000</th>\n",
       "      <th>Trend_1000</th>\n",
       "    </tr>\n",
       "  </thead>\n",
       "  <tbody>\n",
       "    <tr>\n",
       "      <th>0</th>\n",
       "      <td>0.788435</td>\n",
       "      <td>0.852334</td>\n",
       "      <td>0.789423</td>\n",
       "      <td>0.873996</td>\n",
       "      <td>0.439375</td>\n",
       "      <td>0.775023</td>\n",
       "      <td>0.865922</td>\n",
       "      <td>0.535445</td>\n",
       "      <td>0.822834</td>\n",
       "      <td>0.773372</td>\n",
       "      <td>...</td>\n",
       "      <td>0.8</td>\n",
       "      <td>0.869223</td>\n",
       "      <td>0.446547</td>\n",
       "      <td>0.500000</td>\n",
       "      <td>1.000000</td>\n",
       "      <td>0.412497</td>\n",
       "      <td>1.000000</td>\n",
       "      <td>1.000000</td>\n",
       "      <td>0.451527</td>\n",
       "      <td>1.0</td>\n",
       "    </tr>\n",
       "    <tr>\n",
       "      <th>1</th>\n",
       "      <td>0.874013</td>\n",
       "      <td>0.865506</td>\n",
       "      <td>0.870605</td>\n",
       "      <td>0.861342</td>\n",
       "      <td>0.566156</td>\n",
       "      <td>0.446188</td>\n",
       "      <td>0.865922</td>\n",
       "      <td>0.117596</td>\n",
       "      <td>0.467520</td>\n",
       "      <td>0.445237</td>\n",
       "      <td>...</td>\n",
       "      <td>0.8</td>\n",
       "      <td>0.855657</td>\n",
       "      <td>0.575253</td>\n",
       "      <td>0.428571</td>\n",
       "      <td>0.983757</td>\n",
       "      <td>0.534299</td>\n",
       "      <td>0.941176</td>\n",
       "      <td>0.986669</td>\n",
       "      <td>0.579719</td>\n",
       "      <td>1.0</td>\n",
       "    </tr>\n",
       "    <tr>\n",
       "      <th>2</th>\n",
       "      <td>0.861361</td>\n",
       "      <td>0.838724</td>\n",
       "      <td>0.801923</td>\n",
       "      <td>0.819295</td>\n",
       "      <td>0.501927</td>\n",
       "      <td>0.348953</td>\n",
       "      <td>0.865922</td>\n",
       "      <td>0.381984</td>\n",
       "      <td>0.361220</td>\n",
       "      <td>0.348209</td>\n",
       "      <td>...</td>\n",
       "      <td>0.6</td>\n",
       "      <td>0.811603</td>\n",
       "      <td>0.502360</td>\n",
       "      <td>0.357143</td>\n",
       "      <td>0.940287</td>\n",
       "      <td>0.472106</td>\n",
       "      <td>0.882353</td>\n",
       "      <td>0.947790</td>\n",
       "      <td>0.514327</td>\n",
       "      <td>1.0</td>\n",
       "    </tr>\n",
       "    <tr>\n",
       "      <th>3</th>\n",
       "      <td>0.819320</td>\n",
       "      <td>0.793502</td>\n",
       "      <td>0.780769</td>\n",
       "      <td>0.772078</td>\n",
       "      <td>0.424543</td>\n",
       "      <td>0.330510</td>\n",
       "      <td>0.865922</td>\n",
       "      <td>0.252711</td>\n",
       "      <td>0.342519</td>\n",
       "      <td>0.329806</td>\n",
       "      <td>...</td>\n",
       "      <td>0.4</td>\n",
       "      <td>0.762679</td>\n",
       "      <td>0.422912</td>\n",
       "      <td>0.357143</td>\n",
       "      <td>0.892232</td>\n",
       "      <td>0.397207</td>\n",
       "      <td>0.882353</td>\n",
       "      <td>0.904472</td>\n",
       "      <td>0.435720</td>\n",
       "      <td>1.0</td>\n",
       "    </tr>\n",
       "    <tr>\n",
       "      <th>4</th>\n",
       "      <td>0.772109</td>\n",
       "      <td>0.772574</td>\n",
       "      <td>0.769643</td>\n",
       "      <td>0.793713</td>\n",
       "      <td>0.347369</td>\n",
       "      <td>0.560725</td>\n",
       "      <td>0.865922</td>\n",
       "      <td>0.200999</td>\n",
       "      <td>0.591535</td>\n",
       "      <td>0.559530</td>\n",
       "      <td>...</td>\n",
       "      <td>0.4</td>\n",
       "      <td>0.786692</td>\n",
       "      <td>0.345968</td>\n",
       "      <td>0.428571</td>\n",
       "      <td>0.908449</td>\n",
       "      <td>0.322943</td>\n",
       "      <td>0.882353</td>\n",
       "      <td>0.921053</td>\n",
       "      <td>0.357415</td>\n",
       "      <td>1.0</td>\n",
       "    </tr>\n",
       "  </tbody>\n",
       "</table>\n",
       "<p>5 rows × 27 columns</p>\n",
       "</div>"
      ],
      "text/plain": [
       "       Open      High       Low     Close    Volume  Open Close Ratio  \\\n",
       "0  0.788435  0.852334  0.789423  0.873996  0.439375          0.775023   \n",
       "1  0.874013  0.865506  0.870605  0.861342  0.566156          0.446188   \n",
       "2  0.861361  0.838724  0.801923  0.819295  0.501927          0.348953   \n",
       "3  0.819320  0.793502  0.780769  0.772078  0.424543          0.330510   \n",
       "4  0.772109  0.772574  0.769643  0.793713  0.347369          0.560725   \n",
       "\n",
       "   Close Open Ratio  Price Range  Price Change  Daily Returns  ...  Trend_5  \\\n",
       "0          0.865922     0.535445      0.822834       0.773372  ...      0.8   \n",
       "1          0.865922     0.117596      0.467520       0.445237  ...      0.8   \n",
       "2          0.865922     0.381984      0.361220       0.348209  ...      0.6   \n",
       "3          0.865922     0.252711      0.342519       0.329806  ...      0.4   \n",
       "4          0.865922     0.200999      0.591535       0.559530  ...      0.4   \n",
       "\n",
       "   Close_Ratio_60  Volume_Ratio_60  Trend_60  Close_Ratio_250  \\\n",
       "0        0.869223         0.446547  0.500000         1.000000   \n",
       "1        0.855657         0.575253  0.428571         0.983757   \n",
       "2        0.811603         0.502360  0.357143         0.940287   \n",
       "3        0.762679         0.422912  0.357143         0.892232   \n",
       "4        0.786692         0.345968  0.428571         0.908449   \n",
       "\n",
       "   Volume_Ratio_250  Trend_250  Close_Ratio_1000  Volume_Ratio_1000  \\\n",
       "0          0.412497   1.000000          1.000000           0.451527   \n",
       "1          0.534299   0.941176          0.986669           0.579719   \n",
       "2          0.472106   0.882353          0.947790           0.514327   \n",
       "3          0.397207   0.882353          0.904472           0.435720   \n",
       "4          0.322943   0.882353          0.921053           0.357415   \n",
       "\n",
       "   Trend_1000  \n",
       "0         1.0  \n",
       "1         1.0  \n",
       "2         1.0  \n",
       "3         1.0  \n",
       "4         1.0  \n",
       "\n",
       "[5 rows x 27 columns]"
      ]
     },
     "execution_count": 14,
     "metadata": {},
     "output_type": "execute_result"
    }
   ],
   "source": [
    "from sklearn.preprocessing import MinMaxScaler\n",
    "\n",
    "X[\"Year\"] = X.index.year\n",
    "\n",
    "yearGroup = X.groupby(\"Year\")\n",
    "\n",
    "scaler = MinMaxScaler()\n",
    "\n",
    "scaled_dfs = []\n",
    "for year, group in yearGroup:\n",
    "    group_scaled = pd.DataFrame(scaler.fit_transform(group), columns=group.columns)\n",
    "    scaled_dfs.append(group_scaled)\n",
    "\n",
    "\n",
    "# Concatenate the scaled DataFrames\n",
    "X_scaled = pd.concat(scaled_dfs)\n",
    "\n",
    "X_scaled = X_scaled.drop(\"Year\", axis=1)\n",
    "\n",
    "X_scaled.head(5)"
   ]
  },
  {
   "cell_type": "code",
   "execution_count": 19,
   "metadata": {},
   "outputs": [
    {
     "name": "stdout",
     "output_type": "stream",
     "text": [
      "              precision    recall  f1-score   support\n",
      "\n",
      "           0       0.54      0.31      0.40       617\n",
      "           1       0.59      0.79      0.67       772\n",
      "\n",
      "    accuracy                           0.58      1389\n",
      "   macro avg       0.56      0.55      0.53      1389\n",
      "weighted avg       0.57      0.58      0.55      1389\n",
      "\n"
     ]
    }
   ],
   "source": [
    "result_whitebox_scaled = backtest(X_scaled, y, all_feature_cols, log_saga)\n",
    "\n",
    "print(classification_report(result_whitebox_scaled.Target, result_whitebox_scaled.Predictions))"
   ]
  },
  {
   "cell_type": "code",
   "execution_count": 20,
   "metadata": {},
   "outputs": [
    {
     "data": {
      "text/plain": [
       "Text(95.72222222222221, 0.5, 'Truth')"
      ]
     },
     "execution_count": 20,
     "metadata": {},
     "output_type": "execute_result"
    },
    {
     "data": {
      "image/png": "[encoded data removed]",
      "text/plain": [
       "<Figure size 1000x700 with 2 Axes>"
      ]
     },
     "metadata": {},
     "output_type": "display_data"
    }
   ],
   "source": [
    "from sklearn.metrics import confusion_matrix\n",
    "cm = confusion_matrix(result_whitebox_scaled.Target, result_whitebox_scaled.Predictions)\n",
    "\n",
    "from matplotlib import pyplot as plt\n",
    "import seaborn as sn\n",
    "plt.figure(figsize = (10,7))\n",
    "sn.heatmap(cm, annot=True, fmt='d')\n",
    "plt.xlabel('Prediction')\n",
    "plt.ylabel('Truth')"
   ]
  },
  {
   "cell_type": "code",
   "execution_count": 21,
   "metadata": {},
   "outputs": [
    {
     "name": "stdout",
     "output_type": "stream",
     "text": [
      "              precision    recall  f1-score   support\n",
      "\n",
      "           0       0.53      0.31      0.39       588\n",
      "           1       0.59      0.78      0.67       734\n",
      "\n",
      "    accuracy                           0.57      1322\n",
      "   macro avg       0.56      0.55      0.53      1322\n",
      "weighted avg       0.56      0.57      0.55      1322\n",
      "\n"
     ]
    }
   ],
   "source": [
    "log_lib =  LogisticRegression(solver=\"liblinear\", random_state=1)\n",
    "\n",
    "result_whitebox_lib = backtest(X_scaled, y, all_feature_cols, log_lib)\n",
    "\n",
    "print(classification_report(result_whitebox_lib.Target, result_whitebox_lib.Predictions))"
   ]
  },
  {
   "cell_type": "code",
   "execution_count": 22,
   "metadata": {},
   "outputs": [
    {
     "data": {
      "text/plain": [
       "Text(95.72222222222221, 0.5, 'Truth')"
      ]
     },
     "execution_count": 22,
     "metadata": {},
     "output_type": "execute_result"
    },
    {
     "data": {
      "image/png": "[encoded data removed]",
      "text/plain": [
       "<Figure size 1000x700 with 2 Axes>"
      ]
     },
     "metadata": {},
     "output_type": "display_data"
    }
   ],
   "source": [
    "from sklearn.metrics import confusion_matrix\n",
    "cm = confusion_matrix(result_whitebox_lib.Target, result_whitebox_lib.Predictions)\n",
    "\n",
    "from matplotlib import pyplot as plt\n",
    "import seaborn as sn\n",
    "plt.figure(figsize = (10,7))\n",
    "sn.heatmap(cm, annot=True, fmt='d')\n",
    "plt.xlabel('Prediction')\n",
    "plt.ylabel('Truth')"
   ]
  },
  {
   "cell_type": "code",
   "execution_count": 25,
   "metadata": {},
   "outputs": [
    {
     "name": "stdout",
     "output_type": "stream",
     "text": [
      "              precision    recall  f1-score   support\n",
      "\n",
      "           0       0.52      0.22      0.31       414\n",
      "           1       0.60      0.85      0.71       574\n",
      "\n",
      "    accuracy                           0.59       988\n",
      "   macro avg       0.56      0.54      0.51       988\n",
      "weighted avg       0.57      0.59      0.54       988\n",
      "\n"
     ]
    }
   ],
   "source": [
    "log_saga_01 = LogisticRegression(solver=\"saga\", random_state=1, C=.1)\n",
    "\n",
    "result_whitebox_01 = backtest(X_scaled, y, all_feature_cols, log_saga_01)\n",
    "\n",
    "print(classification_report(result_whitebox_01.Target, result_whitebox_01.Predictions))"
   ]
  },
  {
   "cell_type": "code",
   "execution_count": 26,
   "metadata": {},
   "outputs": [
    {
     "data": {
      "text/plain": [
       "Text(95.72222222222221, 0.5, 'Truth')"
      ]
     },
     "execution_count": 26,
     "metadata": {},
     "output_type": "execute_result"
    },
    {
     "data": {
      "image/png": "[encoded data removed]",
      "text/plain": [
       "<Figure size 1000x700 with 2 Axes>"
      ]
     },
     "metadata": {},
     "output_type": "display_data"
    }
   ],
   "source": [
    "from sklearn.metrics import confusion_matrix\n",
    "cm = confusion_matrix(result_whitebox_01.Target, result_whitebox_01.Predictions)\n",
    "\n",
    "from matplotlib import pyplot as plt\n",
    "import seaborn as sn\n",
    "plt.figure(figsize = (10,7))\n",
    "sn.heatmap(cm, annot=True, fmt='d')\n",
    "plt.xlabel('Prediction')\n",
    "plt.ylabel('Truth')"
   ]
  },
  {
   "cell_type": "code",
   "execution_count": 32,
   "metadata": {},
   "outputs": [
    {
     "name": "stdout",
     "output_type": "stream",
     "text": [
      "              precision    recall  f1-score   support\n",
      "\n",
      "           0       0.00      0.00      0.00       110\n",
      "           1       0.65      1.00      0.79       207\n",
      "\n",
      "    accuracy                           0.65       317\n",
      "   macro avg       0.33      0.50      0.40       317\n",
      "weighted avg       0.43      0.65      0.52       317\n",
      "\n"
     ]
    },
    {
     "name": "stderr",
     "output_type": "stream",
     "text": [
      "c:\\Users\\jonas\\anaconda3\\lib\\site-packages\\sklearn\\metrics\\_classification.py:1344: UndefinedMetricWarning: Precision and F-score are ill-defined and being set to 0.0 in labels with no predicted samples. Use `zero_division` parameter to control this behavior.\n",
      "  _warn_prf(average, modifier, msg_start, len(result))\n",
      "c:\\Users\\jonas\\anaconda3\\lib\\site-packages\\sklearn\\metrics\\_classification.py:1344: UndefinedMetricWarning: Precision and F-score are ill-defined and being set to 0.0 in labels with no predicted samples. Use `zero_division` parameter to control this behavior.\n",
      "  _warn_prf(average, modifier, msg_start, len(result))\n",
      "c:\\Users\\jonas\\anaconda3\\lib\\site-packages\\sklearn\\metrics\\_classification.py:1344: UndefinedMetricWarning: Precision and F-score are ill-defined and being set to 0.0 in labels with no predicted samples. Use `zero_division` parameter to control this behavior.\n",
      "  _warn_prf(average, modifier, msg_start, len(result))\n"
     ]
    }
   ],
   "source": [
    "log_saga_10 = LogisticRegression(solver=\"saga\", random_state=1, C=0.01)\n",
    "\n",
    "result_whitebox_10 = backtest(X_scaled, y, all_feature_cols, log_saga_10)\n",
    "\n",
    "print(classification_report(result_whitebox_10.Target, result_whitebox_10.Predictions))"
   ]
  },
  {
   "cell_type": "code",
   "execution_count": 33,
   "metadata": {},
   "outputs": [
    {
     "data": {
      "text/plain": [
       "Text(95.72222222222221, 0.5, 'Truth')"
      ]
     },
     "execution_count": 33,
     "metadata": {},
     "output_type": "execute_result"
    },
    {
     "data": {
      "image/png": "[encoded data removed]",
      "text/plain": [
       "<Figure size 1000x700 with 2 Axes>"
      ]
     },
     "metadata": {},
     "output_type": "display_data"
    }
   ],
   "source": [
    "from sklearn.metrics import confusion_matrix\n",
    "cm = confusion_matrix(result_whitebox_10.Target, result_whitebox_10.Predictions)\n",
    "\n",
    "from matplotlib import pyplot as plt\n",
    "import seaborn as sn\n",
    "plt.figure(figsize = (10,7))\n",
    "sn.heatmap(cm, annot=True, fmt='d')\n",
    "plt.xlabel('Prediction')\n",
    "plt.ylabel('Truth')"
   ]
  },
  {
   "cell_type": "code",
   "execution_count": 34,
   "metadata": {},
   "outputs": [
    {
     "name": "stdout",
     "output_type": "stream",
     "text": [
      "Feature: Trend_250, Score: 12.474315643310547\n",
      "Feature: Close_Ratio_2, Score: 12.049256324768066\n",
      "Feature: High, Score: 11.258987426757812\n",
      "Feature: Volume_Ratio_1000, Score: 9.901001930236816\n",
      "Feature: Low, Score: 9.706275939941406\n",
      "Feature: Close_Ratio_250, Score: 8.688344955444336\n",
      "Feature: Trend_1000, Score: 7.575810432434082\n",
      "Feature: Close, Score: 7.427677154541016\n",
      "Feature: Trend_60, Score: 7.167404651641846\n",
      "Feature: Close_Ratio_60, Score: 7.045038223266602\n",
      "Feature: Close_Ratio_1000, Score: 6.838932991027832\n",
      "Feature: Open Close Ratio, Score: 6.335092067718506\n",
      "Feature: Volume Weighted Average Price, Score: 6.227462291717529\n",
      "Feature: Price Range, Score: 6.098265647888184\n",
      "Feature: Volume_Ratio_250, Score: 6.016364574432373\n",
      "Feature: Volume_Ratio_60, Score: 5.766828536987305\n",
      "Feature: Open, Score: 5.4968342781066895\n",
      "Feature: Volume, Score: 5.479288101196289\n",
      "Feature: Close Open Ratio, Score: 5.3470611572265625\n",
      "Feature: Price Change, Score: 4.7330121994018555\n",
      "Feature: Daily Returns, Score: 4.680854797363281\n",
      "Feature: Volume Change, Score: 4.533828258514404\n",
      "Feature: Volume_Ratio_5, Score: 4.237732410430908\n",
      "Feature: Volume_Ratio_2, Score: 4.214864730834961\n",
      "Feature: Trend_5, Score: 3.544637441635132\n",
      "Feature: Close_Ratio_5, Score: 3.395195484161377\n",
      "Feature: Trend_2, Score: 1.8631361722946167\n"
     ]
    }
   ],
   "source": [
    "import xgboost as xgb\n",
    "\n",
    "dmatrix = xgb.DMatrix(X_scaled, label=y)\n",
    "params = {\n",
    "    'objective': 'binary:logistic',  # Use 'reg:linear' for regression or 'binary:logistic' for classification\n",
    "}\n",
    "model = xgb.train(params, dmatrix)\n",
    "importance = model.get_score(importance_type='gain')  # 'gain' or 'weight' or 'cover'\n",
    "importance_sorted = sorted(importance.items(), key=lambda x: x[1], reverse=True)\n",
    "\n",
    "for feature, score in importance_sorted:\n",
    "    print(f\"Feature: {feature}, Score: {score}\")"
   ]
  },
  {
   "cell_type": "code",
   "execution_count": 60,
   "metadata": {},
   "outputs": [
    {
     "name": "stdout",
     "output_type": "stream",
     "text": [
      "              precision    recall  f1-score   support\n",
      "\n",
      "           0       0.70      0.14      0.24       280\n",
      "           1       0.63      0.96      0.76       424\n",
      "\n",
      "    accuracy                           0.63       704\n",
      "   macro avg       0.67      0.55      0.50       704\n",
      "weighted avg       0.66      0.63      0.55       704\n",
      "\n"
     ]
    }
   ],
   "source": [
    "top10_cols = []\n",
    "for feature, score in importance_sorted[:10]:\n",
    "    top10_cols.append(feature)\n",
    "\n",
    "log_saga_01 = LogisticRegression(solver=\"saga\", random_state=1, C=0.1)\n",
    "\n",
    "result_whitebox_scaled_10 = backtest(X_scaled, y, top10_cols, log_saga_01)\n",
    "\n",
    "print(classification_report(result_whitebox_scaled_10.Target, result_whitebox_scaled_10.Predictions))"
   ]
  },
  {
   "cell_type": "code",
   "execution_count": 61,
   "metadata": {},
   "outputs": [
    {
     "data": {
      "text/plain": [
       "Text(95.72222222222221, 0.5, 'Truth')"
      ]
     },
     "execution_count": 61,
     "metadata": {},
     "output_type": "execute_result"
    },
    {
     "data": {
      "image/png": "[encoded data removed]",
      "text/plain": [
       "<Figure size 1000x700 with 2 Axes>"
      ]
     },
     "metadata": {},
     "output_type": "display_data"
    }
   ],
   "source": [
    "from sklearn.metrics import confusion_matrix\n",
    "cm = confusion_matrix(result_whitebox_scaled_10.Target, result_whitebox_scaled_10.Predictions)\n",
    "\n",
    "from matplotlib import pyplot as plt\n",
    "import seaborn as sn\n",
    "plt.figure(figsize = (10,7))\n",
    "sn.heatmap(cm, annot=True, fmt='d')\n",
    "plt.xlabel('Prediction')\n",
    "plt.ylabel('Truth')"
   ]
  },
  {
   "cell_type": "code",
   "execution_count": 62,
   "metadata": {},
   "outputs": [
    {
     "name": "stdout",
     "output_type": "stream",
     "text": [
      "              precision    recall  f1-score   support\n",
      "\n",
      "           0       0.54      0.17      0.26       351\n",
      "           1       0.62      0.90      0.74       536\n",
      "\n",
      "    accuracy                           0.61       887\n",
      "   macro avg       0.58      0.54      0.50       887\n",
      "weighted avg       0.59      0.61      0.55       887\n",
      "\n"
     ]
    }
   ],
   "source": [
    "top15_cols = []\n",
    "for feature, score in importance_sorted[:15]:\n",
    "    top15_cols.append(feature)\n",
    "\n",
    "log_saga_01 = LogisticRegression(solver=\"saga\", random_state=1, C=0.1)\n",
    "\n",
    "result_whitebox_scaled_15 = backtest(X_scaled, y, top15_cols, log_saga_01)\n",
    "\n",
    "print(classification_report(result_whitebox_scaled_15.Target, result_whitebox_scaled_15.Predictions))"
   ]
  },
  {
   "cell_type": "code",
   "execution_count": 63,
   "metadata": {},
   "outputs": [
    {
     "data": {
      "text/plain": [
       "Text(95.72222222222221, 0.5, 'Truth')"
      ]
     },
     "execution_count": 63,
     "metadata": {},
     "output_type": "execute_result"
    },
    {
     "data": {
      "image/png": "[encoded data removed]",
      "text/plain": [
       "<Figure size 1000x700 with 2 Axes>"
      ]
     },
     "metadata": {},
     "output_type": "display_data"
    }
   ],
   "source": [
    "from sklearn.metrics import confusion_matrix\n",
    "cm = confusion_matrix(result_whitebox_scaled_15.Target, result_whitebox_scaled_15.Predictions)\n",
    "\n",
    "from matplotlib import pyplot as plt\n",
    "import seaborn as sn\n",
    "plt.figure(figsize = (10,7))\n",
    "sn.heatmap(cm, annot=True, fmt='d')\n",
    "plt.xlabel('Prediction')\n",
    "plt.ylabel('Truth')"
   ]
  },
  {
   "cell_type": "code",
   "execution_count": 64,
   "metadata": {},
   "outputs": [
    {
     "name": "stdout",
     "output_type": "stream",
     "text": [
      "              precision    recall  f1-score   support\n",
      "\n",
      "           0       0.53      0.18      0.27       364\n",
      "           1       0.61      0.89      0.72       529\n",
      "\n",
      "    accuracy                           0.60       893\n",
      "   macro avg       0.57      0.53      0.50       893\n",
      "weighted avg       0.58      0.60      0.54       893\n",
      "\n"
     ]
    }
   ],
   "source": [
    "top20_cols = []\n",
    "for feature, score in importance_sorted[:20]:\n",
    "    top20_cols.append(feature)\n",
    "\n",
    "log_saga_01 = LogisticRegression(solver=\"saga\", random_state=1, C=0.1)\n",
    "\n",
    "result_whitebox_scaled_20 = backtest(X_scaled, y, top20_cols, log_saga_01)\n",
    "\n",
    "print(classification_report(result_whitebox_scaled_20.Target, result_whitebox_scaled_20.Predictions))"
   ]
  },
  {
   "cell_type": "code",
   "execution_count": 65,
   "metadata": {},
   "outputs": [
    {
     "data": {
      "text/plain": [
       "Text(95.72222222222221, 0.5, 'Truth')"
      ]
     },
     "execution_count": 65,
     "metadata": {},
     "output_type": "execute_result"
    },
    {
     "data": {
      "image/png": "[encoded data removed]",
      "text/plain": [
       "<Figure size 1000x700 with 2 Axes>"
      ]
     },
     "metadata": {},
     "output_type": "display_data"
    }
   ],
   "source": [
    "from sklearn.metrics import confusion_matrix\n",
    "cm = confusion_matrix(result_whitebox_scaled_20.Target, result_whitebox_scaled_20.Predictions)\n",
    "\n",
    "from matplotlib import pyplot as plt\n",
    "import seaborn as sn\n",
    "plt.figure(figsize = (10,7))\n",
    "sn.heatmap(cm, annot=True, fmt='d')\n",
    "plt.xlabel('Prediction')\n",
    "plt.ylabel('Truth')"
   ]
  },
  {
   "cell_type": "code",
   "execution_count": 66,
   "metadata": {},
   "outputs": [
    {
     "name": "stdout",
     "output_type": "stream",
     "text": [
      "              precision    recall  f1-score   support\n",
      "\n",
      "           0       0.00      0.00      0.00       127\n",
      "           1       0.62      1.00      0.76       206\n",
      "\n",
      "    accuracy                           0.62       333\n",
      "   macro avg       0.31      0.50      0.38       333\n",
      "weighted avg       0.38      0.62      0.47       333\n",
      "\n"
     ]
    },
    {
     "name": "stderr",
     "output_type": "stream",
     "text": [
      "c:\\Users\\jonas\\anaconda3\\lib\\site-packages\\sklearn\\metrics\\_classification.py:1344: UndefinedMetricWarning: Precision and F-score are ill-defined and being set to 0.0 in labels with no predicted samples. Use `zero_division` parameter to control this behavior.\n",
      "  _warn_prf(average, modifier, msg_start, len(result))\n",
      "c:\\Users\\jonas\\anaconda3\\lib\\site-packages\\sklearn\\metrics\\_classification.py:1344: UndefinedMetricWarning: Precision and F-score are ill-defined and being set to 0.0 in labels with no predicted samples. Use `zero_division` parameter to control this behavior.\n",
      "  _warn_prf(average, modifier, msg_start, len(result))\n",
      "c:\\Users\\jonas\\anaconda3\\lib\\site-packages\\sklearn\\metrics\\_classification.py:1344: UndefinedMetricWarning: Precision and F-score are ill-defined and being set to 0.0 in labels with no predicted samples. Use `zero_division` parameter to control this behavior.\n",
      "  _warn_prf(average, modifier, msg_start, len(result))\n"
     ]
    }
   ],
   "source": [
    "log_saga_01_l1 = LogisticRegression(solver=\"saga\", random_state=1, C=0.1, penalty=\"l1\")\n",
    "\n",
    "result_whitebox_01_l1 = backtest(X_scaled, y, all_feature_cols, log_saga_01_l1)\n",
    "\n",
    "print(classification_report(result_whitebox_01_l1.Target, result_whitebox_01_l1.Predictions))"
   ]
  },
  {
   "cell_type": "code",
   "execution_count": 67,
   "metadata": {},
   "outputs": [
    {
     "data": {
      "text/plain": [
       "Text(95.72222222222221, 0.5, 'Truth')"
      ]
     },
     "execution_count": 67,
     "metadata": {},
     "output_type": "execute_result"
    },
    {
     "data": {
      "image/png": "[encoded data removed]",
      "text/plain": [
       "<Figure size 1000x700 with 2 Axes>"
      ]
     },
     "metadata": {},
     "output_type": "display_data"
    }
   ],
   "source": [
    "from sklearn.metrics import confusion_matrix\n",
    "cm = confusion_matrix(result_whitebox_01_l1.Target, result_whitebox_01_l1.Predictions)\n",
    "\n",
    "from matplotlib import pyplot as plt\n",
    "import seaborn as sn\n",
    "plt.figure(figsize = (10,7))\n",
    "sn.heatmap(cm, annot=True, fmt='d')\n",
    "plt.xlabel('Prediction')\n",
    "plt.ylabel('Truth')"
   ]
  },
  {
   "cell_type": "code",
   "execution_count": 68,
   "metadata": {},
   "outputs": [
    {
     "data": {
      "text/plain": [
       "['Close',\n",
       " 'Price Change',\n",
       " 'Volume Weighted Average Price',\n",
       " 'Trend_2',\n",
       " 'Trend_5',\n",
       " 'Close_Ratio_250',\n",
       " 'Volume_Ratio_250',\n",
       " 'Trend_250',\n",
       " 'Volume_Ratio_1000',\n",
       " 'Trend_1000']"
      ]
     },
     "execution_count": 68,
     "metadata": {},
     "output_type": "execute_result"
    }
   ],
   "source": [
    "# Access the coefficients\n",
    "coefficients = log_saga_01_l1.coef_\n",
    "\n",
    "filtered_coef = []\n",
    "\n",
    "for feature, coef in zip(all_feature_cols, coefficients[0]):\n",
    "    if coef!=0.0:\n",
    "        filtered_coef.append(feature)\n",
    "\n",
    "filtered_coef"
   ]
  },
  {
   "cell_type": "code",
   "execution_count": 69,
   "metadata": {},
   "outputs": [
    {
     "name": "stdout",
     "output_type": "stream",
     "text": [
      "              precision    recall  f1-score   support\n",
      "\n",
      "           0       0.52      0.20      0.29       323\n",
      "           1       0.62      0.88      0.73       488\n",
      "\n",
      "    accuracy                           0.61       811\n",
      "   macro avg       0.57      0.54      0.51       811\n",
      "weighted avg       0.58      0.61      0.55       811\n",
      "\n"
     ]
    }
   ],
   "source": [
    "log_saga_01 = LogisticRegression(solver=\"saga\", random_state=1, C=0.1)\n",
    "\n",
    "result_whitebox_scaled_l1 = backtest(X_scaled, y, filtered_coef, log_saga_01)\n",
    "\n",
    "print(classification_report(result_whitebox_scaled_l1.Target, result_whitebox_scaled_l1.Predictions))"
   ]
  },
  {
   "cell_type": "code",
   "execution_count": 70,
   "metadata": {},
   "outputs": [
    {
     "data": {
      "text/plain": [
       "Text(95.72222222222221, 0.5, 'Truth')"
      ]
     },
     "execution_count": 70,
     "metadata": {},
     "output_type": "execute_result"
    },
    {
     "data": {
      "image/png": "[encoded data removed]",
      "text/plain": [
       "<Figure size 1000x700 with 2 Axes>"
      ]
     },
     "metadata": {},
     "output_type": "display_data"
    }
   ],
   "source": [
    "from sklearn.metrics import confusion_matrix\n",
    "cm = confusion_matrix(result_whitebox_scaled_l1.Target, result_whitebox_scaled_l1.Predictions)\n",
    "\n",
    "from matplotlib import pyplot as plt\n",
    "import seaborn as sn\n",
    "plt.figure(figsize = (10,7))\n",
    "sn.heatmap(cm, annot=True, fmt='d')\n",
    "plt.xlabel('Prediction')\n",
    "plt.ylabel('Truth')"
   ]
  }
 ],
 "metadata": {
  "kernelspec": {
   "display_name": "base",
   "language": "python",
   "name": "python3"
  },
  "language_info": {
   "codemirror_mode": {
    "name": "ipython",
    "version": 3
   },
   "file_extension": ".py",
   "mimetype": "text/x-python",
   "name": "python",
   "nbconvert_exporter": "python",
   "pygments_lexer": "ipython3",
   "version": "3.10.9"
  },
  "orig_nbformat": 4
 },
 "nbformat": 4,
 "nbformat_minor": 2
}
